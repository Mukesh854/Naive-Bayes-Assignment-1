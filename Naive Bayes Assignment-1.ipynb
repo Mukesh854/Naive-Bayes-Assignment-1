{
 "cells": [
  {
   "cell_type": "markdown",
   "id": "48566185-2ea5-4105-ba3c-ce7dc7b559fe",
   "metadata": {},
   "source": [
    "# Naive Bayes Assignment-1"
   ]
  },
  {
   "cell_type": "markdown",
   "id": "a4a19e16-219f-4904-8835-86da1630206d",
   "metadata": {},
   "source": [
    "Q1. What is Bayes' theorem?"
   ]
  },
  {
   "cell_type": "markdown",
   "id": "9f9ad9f9-348d-42eb-9eb4-168ea1b4cce3",
   "metadata": {},
   "source": [
    "Bayes' theorem calculates the probability of an event based on prior knowledge or conditions related to that event.\n",
    "\n",
    "The formula is:\n",
    "\n",
    "P(A/B) = P(B/A)*P(A)/P(B)"
   ]
  },
  {
   "cell_type": "markdown",
   "id": "cd1902fd-d01f-49b2-b6e5-d42659a78a18",
   "metadata": {},
   "source": [
    "Q2. What is the formula for Bayes' theorem?"
   ]
  },
  {
   "cell_type": "markdown",
   "id": "6f8bf609-24f0-4d13-9533-01c81a92de46",
   "metadata": {},
   "source": [
    "Formula for Baye's theorem is:\n",
    "\n",
    "P(A/B) = P(B/A)*P(A)/P(B)"
   ]
  },
  {
   "cell_type": "markdown",
   "id": "3e8d969a-c83a-41c5-9f07-f7cfc4680539",
   "metadata": {},
   "source": [
    "Q3. How is Bayes' theorem used in practice?"
   ]
  },
  {
   "cell_type": "markdown",
   "id": "a9b39a60-7054-4b0b-9b0a-8698cb69a355",
   "metadata": {},
   "source": [
    "Bayes' theorem is used practically in fields like medicine for diagnosis, spam filtering in emails, machine learning for classification, risk assessment in finance, and fault diagnosis in industries. It helps update probabilities based on new evidence, aiding decision-making under uncertainty.\n",
    "\n",
    "\n",
    "\n",
    "\n",
    "\n",
    "\n"
   ]
  },
  {
   "cell_type": "markdown",
   "id": "4b835b19-8cd6-4077-ab22-cfae0c5b75c7",
   "metadata": {},
   "source": [
    "Q4. What is the relationship between Bayes' theorem and conditional probability?"
   ]
  },
  {
   "cell_type": "markdown",
   "id": "52bdf280-91c8-49d3-8f27-f231134d141d",
   "metadata": {},
   "source": [
    "Bayes' theorem is a way to calculate conditional probabilities, providing a method to update beliefs based on new evidence. It relates to conditional probability by offering a systematic approach to infer the probability of one event given another.\n",
    "\n",
    "\n",
    "\n",
    "\n",
    "\n"
   ]
  },
  {
   "cell_type": "markdown",
   "id": "92768efd-7609-40ee-86e3-b09b5eead139",
   "metadata": {},
   "source": [
    "Q5. How do you choose which type of Naive Bayes classifier to use for any given problem?"
   ]
  },
  {
   "cell_type": "markdown",
   "id": "ee0d6631-2bc2-42ec-9eee-8e429503607f",
   "metadata": {},
   "source": [
    "Choose Gaussian Naive Bayes for continuous features, Multinomial Naive Bayes for text classification, Bernoulli Naive Bayes for binary features, and Complementary Naive Bayes for imbalanced datasets. Experimentation and evaluation are crucial for selecting the most suitable classifier."
   ]
  },
  {
   "cell_type": "markdown",
   "id": "e77ca039-6739-4a0c-88f0-3301bd3bf6cf",
   "metadata": {},
   "source": [
    "Q6. Assignment:\n",
    "\n",
    "You have a dataset with two features, X1 and X2, and two possible classes, A and B. You want to use Naive\n",
    "Bayes to classify a new instance with features X1 = 3 and X2 = 4. The following table shows the frequency of\n",
    "each feature value for each class:"
   ]
  },
  {
   "cell_type": "code",
   "execution_count": 2,
   "id": "0f638f6b-430c-4d1c-bc5a-df39ca6b4fbb",
   "metadata": {},
   "outputs": [
    {
     "name": "stdout",
     "output_type": "stream",
     "text": [
      "Posterior probability for class A: 0.6621621621621622\n",
      "Posterior probability for class B: 0.33783783783783783\n",
      "Predicted Class: A \n"
     ]
    }
   ],
   "source": [
    "# Define the prior probabilities\n",
    "prior_A = 0.5\n",
    "prior_B = 0.5\n",
    "\n",
    "A = (4/10) * (3/10)\n",
    "B = (1/7) * (3/7)\n",
    "# Calculate the denominator\n",
    "\n",
    "denominator = A * prior_A + B * prior_B\n",
    "\n",
    "# Calculate the posterior probabilities\n",
    "\n",
    "posterior_A = (A * prior_A)/denominator\n",
    "\n",
    "posterior_B = (B * prior_B)/denominator\n",
    "\n",
    "# Print the results\n",
    "print(\"Posterior probability for class A:\", posterior_A)\n",
    "print(\"Posterior probability for class B:\", posterior_B)\n",
    "\n",
    "if posterior_A > posterior_B:\n",
    "    print(\"Predicted Class: A \")\n",
    "else :\n",
    "    print(\"Predicted Class: B\")"
   ]
  },
  {
   "cell_type": "code",
   "execution_count": null,
   "id": "7dbbb9e3-a5e5-47f7-88de-201b574fec2f",
   "metadata": {},
   "outputs": [],
   "source": []
  }
 ],
 "metadata": {
  "kernelspec": {
   "display_name": "Python 3 (ipykernel)",
   "language": "python",
   "name": "python3"
  },
  "language_info": {
   "codemirror_mode": {
    "name": "ipython",
    "version": 3
   },
   "file_extension": ".py",
   "mimetype": "text/x-python",
   "name": "python",
   "nbconvert_exporter": "python",
   "pygments_lexer": "ipython3",
   "version": "3.10.8"
  }
 },
 "nbformat": 4,
 "nbformat_minor": 5
}
